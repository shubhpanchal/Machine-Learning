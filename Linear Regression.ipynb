{
 "cells": [
  {
   "cell_type": "markdown",
   "id": "9b77e82d",
   "metadata": {},
   "source": [
    "## Implementing Multiple Linear Regression"
   ]
  },
  {
   "cell_type": "markdown",
   "id": "522be07b",
   "metadata": {},
   "source": [
    "### Objective :- To predict the profits made by startup in different cities based on expenditures"
   ]
  },
  {
   "cell_type": "code",
   "execution_count": 1,
   "id": "7c0173df",
   "metadata": {},
   "outputs": [],
   "source": [
    "#Importing libraries\n",
    "import numpy as np\n",
    "import pandas as pd\n",
    "from numpy import math\n",
    "\n",
    "#Importing libraries for Machine Learning\n",
    "from sklearn.preprocessing import MinMaxScaler\n",
    "from sklearn.model_selection import train_test_split\n",
    "from sklearn.linear_model import LinearRegression\n",
    "from sklearn.metrics import r2_score, mean_squared_error\n",
    "\n",
    "# Importing Visualization libraries\n",
    "import matplotlib.pyplot as plt"
   ]
  },
  {
   "cell_type": "code",
   "execution_count": 2,
   "id": "8a5585c3",
   "metadata": {},
   "outputs": [
    {
     "data": {
      "text/html": [
       "<div>\n",
       "<style scoped>\n",
       "    .dataframe tbody tr th:only-of-type {\n",
       "        vertical-align: middle;\n",
       "    }\n",
       "\n",
       "    .dataframe tbody tr th {\n",
       "        vertical-align: top;\n",
       "    }\n",
       "\n",
       "    .dataframe thead th {\n",
       "        text-align: right;\n",
       "    }\n",
       "</style>\n",
       "<table border=\"1\" class=\"dataframe\">\n",
       "  <thead>\n",
       "    <tr style=\"text-align: right;\">\n",
       "      <th></th>\n",
       "      <th>R&amp;D Spend</th>\n",
       "      <th>Administration</th>\n",
       "      <th>Marketing Spend</th>\n",
       "      <th>State</th>\n",
       "      <th>Profit</th>\n",
       "    </tr>\n",
       "  </thead>\n",
       "  <tbody>\n",
       "    <tr>\n",
       "      <th>0</th>\n",
       "      <td>165349.20</td>\n",
       "      <td>136897.80</td>\n",
       "      <td>471784.10</td>\n",
       "      <td>New York</td>\n",
       "      <td>192261.83</td>\n",
       "    </tr>\n",
       "    <tr>\n",
       "      <th>1</th>\n",
       "      <td>162597.70</td>\n",
       "      <td>151377.59</td>\n",
       "      <td>443898.53</td>\n",
       "      <td>California</td>\n",
       "      <td>191792.06</td>\n",
       "    </tr>\n",
       "    <tr>\n",
       "      <th>2</th>\n",
       "      <td>153441.51</td>\n",
       "      <td>101145.55</td>\n",
       "      <td>407934.54</td>\n",
       "      <td>Florida</td>\n",
       "      <td>191050.39</td>\n",
       "    </tr>\n",
       "    <tr>\n",
       "      <th>3</th>\n",
       "      <td>144372.41</td>\n",
       "      <td>118671.85</td>\n",
       "      <td>383199.62</td>\n",
       "      <td>New York</td>\n",
       "      <td>182901.99</td>\n",
       "    </tr>\n",
       "    <tr>\n",
       "      <th>4</th>\n",
       "      <td>142107.34</td>\n",
       "      <td>91391.77</td>\n",
       "      <td>366168.42</td>\n",
       "      <td>Florida</td>\n",
       "      <td>166187.94</td>\n",
       "    </tr>\n",
       "  </tbody>\n",
       "</table>\n",
       "</div>"
      ],
      "text/plain": [
       "   R&D Spend  Administration  Marketing Spend       State     Profit\n",
       "0  165349.20       136897.80        471784.10    New York  192261.83\n",
       "1  162597.70       151377.59        443898.53  California  191792.06\n",
       "2  153441.51       101145.55        407934.54     Florida  191050.39\n",
       "3  144372.41       118671.85        383199.62    New York  182901.99\n",
       "4  142107.34        91391.77        366168.42     Florida  166187.94"
      ]
     },
     "execution_count": 2,
     "metadata": {},
     "output_type": "execute_result"
    }
   ],
   "source": [
    "#Loading the Dataset of startups\n",
    "dataset = pd.read_csv('50_Startups.csv')\n",
    "dataset.head()"
   ]
  },
  {
   "cell_type": "code",
   "execution_count": 3,
   "id": "7cb6290a",
   "metadata": {},
   "outputs": [
    {
     "data": {
      "text/plain": [
       "50"
      ]
     },
     "execution_count": 3,
     "metadata": {},
     "output_type": "execute_result"
    }
   ],
   "source": [
    "#Checking for the leangth i.e. no. of rows in a dataset\n",
    "len(dataset)"
   ]
  },
  {
   "cell_type": "code",
   "execution_count": 4,
   "id": "a9658077",
   "metadata": {},
   "outputs": [
    {
     "data": {
      "text/plain": [
       "(50, 5)"
      ]
     },
     "execution_count": 4,
     "metadata": {},
     "output_type": "execute_result"
    }
   ],
   "source": [
    "#This shows that the dataset has 50 rows(observations) and 5 columns(features)\n",
    "dataset.shape"
   ]
  },
  {
   "cell_type": "code",
   "execution_count": 5,
   "id": "0b37e52a",
   "metadata": {},
   "outputs": [
    {
     "data": {
      "image/png": "[encoded data removed]",
      "text/plain": [
       "<Figure size 432x288 with 1 Axes>"
      ]
     },
     "metadata": {
      "needs_background": "light"
     },
     "output_type": "display_data"
    }
   ],
   "source": [
    "#Plotting the scatter plot for checking relationship between Marketing spend and profits\n",
    "plt.scatter(dataset['Marketing Spend'], dataset['Profit'], alpha = 0.5)\n",
    "plt.title('Scatter Plot of Profits with Marketing Spends')\n",
    "plt.xlabel('Marketing Spends')\n",
    "plt.ylabel('Profits')\n",
    "plt.show()"
   ]
  },
  {
   "cell_type": "markdown",
   "id": "fa9e4532",
   "metadata": {},
   "source": [
    "Conclusion:-There is a Positive correlation between Marketing Spends and Profits"
   ]
  },
  {
   "cell_type": "code",
   "execution_count": 6,
   "id": "1f729363",
   "metadata": {},
   "outputs": [
    {
     "data": {
      "image/png": "[encoded data removed]",
      "text/plain": [
       "<Figure size 432x288 with 1 Axes>"
      ]
     },
     "metadata": {
      "needs_background": "light"
     },
     "output_type": "display_data"
    }
   ],
   "source": [
    "#Plotting the scatter plot for checking relationship R&D Spends and profits\n",
    "plt.scatter(dataset['R&D Spend'], dataset['Profit'], alpha = 0.5)\n",
    "plt.title('Scatter Plot of Profits with Marketing Spends')\n",
    "plt.xlabel('R&D Spends')\n",
    "plt.ylabel('Profits')\n",
    "plt.show()"
   ]
  },
  {
   "cell_type": "markdown",
   "id": "21faaded",
   "metadata": {},
   "source": [
    "Conclusion:- There is a High Correlation between Research and Development Spends with Profits."
   ]
  },
  {
   "cell_type": "code",
   "execution_count": 7,
   "id": "1dcc226b",
   "metadata": {},
   "outputs": [
    {
     "data": {
      "image/png": "[encoded data removed]",
      "text/plain": [
       "<Figure size 432x288 with 1 Axes>"
      ]
     },
     "metadata": {
      "needs_background": "light"
     },
     "output_type": "display_data"
    }
   ],
   "source": [
    "#Plotting the scatter plot for checking relationship Administration Spends and profits\n",
    "plt.scatter(dataset['Administration'], dataset['Profit'], alpha = 0.5)\n",
    "plt.title('Scatter Plot of Profits with Marketing Spends')\n",
    "plt.xlabel('Administration Spends')\n",
    "plt.ylabel('Profits')\n",
    "plt.show()"
   ]
  },
  {
   "cell_type": "markdown",
   "id": "68e8f6fd",
   "metadata": {},
   "source": [
    "Conclution:- There is no correlation between Administration Spends and Profits."
   ]
  },
  {
   "cell_type": "code",
   "execution_count": 8,
   "id": "9f0d35f0",
   "metadata": {},
   "outputs": [
    {
     "data": {
      "text/plain": [
       "Text(0, 0.5, 'Average Profits')"
      ]
     },
     "execution_count": 8,
     "metadata": {},
     "output_type": "execute_result"
    },
    {
     "data": {
      "image/png": "[encoded data removed]",
      "text/plain": [
       "<Figure size 720x360 with 1 Axes>"
      ]
     },
     "metadata": {
      "needs_background": "light"
     },
     "output_type": "display_data"
    }
   ],
   "source": [
    "# Create a figure Object\n",
    "ax = dataset.groupby(['State'])['Profit'].mean().plot.bar(\n",
    "    figsize = (10,5),\n",
    "    fontsize = 14)\n",
    "#Set the title\n",
    "ax.set_title(\"Average Profits for different states where startups operate\", fontsize = 20)\n",
    "#Set X and Y labels\n",
    "ax.set_xlabel(\"State\", fontsize = 15)\n",
    "ax.set_ylabel(\"Average Profits\", fontsize = 15)"
   ]
  },
  {
   "cell_type": "code",
   "execution_count": 9,
   "id": "9ec15dec",
   "metadata": {},
   "outputs": [
    {
     "data": {
      "text/plain": [
       "California    17\n",
       "New York      17\n",
       "Florida       16\n",
       "Name: State, dtype: int64"
      ]
     },
     "execution_count": 9,
     "metadata": {},
     "output_type": "execute_result"
    }
   ],
   "source": [
    "dataset.State.value_counts()"
   ]
  },
  {
   "cell_type": "markdown",
   "id": "8a50158d",
   "metadata": {},
   "source": [
    "There are 17 startups in California and New York, whereas 16 startups operate in the state of Florida"
   ]
  },
  {
   "cell_type": "code",
   "execution_count": 10,
   "id": "fb2e0de7",
   "metadata": {},
   "outputs": [
    {
     "data": {
      "text/html": [
       "<div>\n",
       "<style scoped>\n",
       "    .dataframe tbody tr th:only-of-type {\n",
       "        vertical-align: middle;\n",
       "    }\n",
       "\n",
       "    .dataframe tbody tr th {\n",
       "        vertical-align: top;\n",
       "    }\n",
       "\n",
       "    .dataframe thead th {\n",
       "        text-align: right;\n",
       "    }\n",
       "</style>\n",
       "<table border=\"1\" class=\"dataframe\">\n",
       "  <thead>\n",
       "    <tr style=\"text-align: right;\">\n",
       "      <th></th>\n",
       "      <th>R&amp;D Spend</th>\n",
       "      <th>Administration</th>\n",
       "      <th>Marketing Spend</th>\n",
       "      <th>State</th>\n",
       "      <th>Profit</th>\n",
       "      <th>NewYork_state</th>\n",
       "      <th>California_State</th>\n",
       "      <th>Florida_state</th>\n",
       "    </tr>\n",
       "  </thead>\n",
       "  <tbody>\n",
       "    <tr>\n",
       "      <th>0</th>\n",
       "      <td>165349.20</td>\n",
       "      <td>136897.80</td>\n",
       "      <td>471784.10</td>\n",
       "      <td>New York</td>\n",
       "      <td>192261.83</td>\n",
       "      <td>1</td>\n",
       "      <td>0</td>\n",
       "      <td>0</td>\n",
       "    </tr>\n",
       "    <tr>\n",
       "      <th>1</th>\n",
       "      <td>162597.70</td>\n",
       "      <td>151377.59</td>\n",
       "      <td>443898.53</td>\n",
       "      <td>California</td>\n",
       "      <td>191792.06</td>\n",
       "      <td>0</td>\n",
       "      <td>1</td>\n",
       "      <td>0</td>\n",
       "    </tr>\n",
       "    <tr>\n",
       "      <th>2</th>\n",
       "      <td>153441.51</td>\n",
       "      <td>101145.55</td>\n",
       "      <td>407934.54</td>\n",
       "      <td>Florida</td>\n",
       "      <td>191050.39</td>\n",
       "      <td>0</td>\n",
       "      <td>0</td>\n",
       "      <td>1</td>\n",
       "    </tr>\n",
       "    <tr>\n",
       "      <th>3</th>\n",
       "      <td>144372.41</td>\n",
       "      <td>118671.85</td>\n",
       "      <td>383199.62</td>\n",
       "      <td>New York</td>\n",
       "      <td>182901.99</td>\n",
       "      <td>1</td>\n",
       "      <td>0</td>\n",
       "      <td>0</td>\n",
       "    </tr>\n",
       "    <tr>\n",
       "      <th>4</th>\n",
       "      <td>142107.34</td>\n",
       "      <td>91391.77</td>\n",
       "      <td>366168.42</td>\n",
       "      <td>Florida</td>\n",
       "      <td>166187.94</td>\n",
       "      <td>0</td>\n",
       "      <td>0</td>\n",
       "      <td>1</td>\n",
       "    </tr>\n",
       "  </tbody>\n",
       "</table>\n",
       "</div>"
      ],
      "text/plain": [
       "   R&D Spend  Administration  Marketing Spend       State     Profit  \\\n",
       "0  165349.20       136897.80        471784.10    New York  192261.83   \n",
       "1  162597.70       151377.59        443898.53  California  191792.06   \n",
       "2  153441.51       101145.55        407934.54     Florida  191050.39   \n",
       "3  144372.41       118671.85        383199.62    New York  182901.99   \n",
       "4  142107.34        91391.77        366168.42     Florida  166187.94   \n",
       "\n",
       "   NewYork_state  California_State  Florida_state  \n",
       "0              1                 0              0  \n",
       "1              0                 1              0  \n",
       "2              0                 0              1  \n",
       "3              1                 0              0  \n",
       "4              0                 0              1  "
      ]
     },
     "execution_count": 10,
     "metadata": {},
     "output_type": "execute_result"
    }
   ],
   "source": [
    "# Create dummy variables for categorical data. OneHotEncoding can be used for the same purpose.\n",
    "dataset['NewYork_state'] = np.where(dataset['State']=='New York', 1, 0)\n",
    "dataset['California_State'] = np.where(dataset['State']=='California',1,0)\n",
    "dataset['Florida_state'] = np.where(dataset['State']=='Florida',1,0)\n",
    "dataset.head()"
   ]
  },
  {
   "cell_type": "code",
   "execution_count": 11,
   "id": "8abb6544",
   "metadata": {},
   "outputs": [],
   "source": [
    "# dropping the original state column\n",
    "dataset.drop(columns='State', axis = 1, inplace = True)"
   ]
  },
  {
   "cell_type": "code",
   "execution_count": 12,
   "id": "52e65976",
   "metadata": {},
   "outputs": [
    {
     "data": {
      "text/html": [
       "<div>\n",
       "<style scoped>\n",
       "    .dataframe tbody tr th:only-of-type {\n",
       "        vertical-align: middle;\n",
       "    }\n",
       "\n",
       "    .dataframe tbody tr th {\n",
       "        vertical-align: top;\n",
       "    }\n",
       "\n",
       "    .dataframe thead th {\n",
       "        text-align: right;\n",
       "    }\n",
       "</style>\n",
       "<table border=\"1\" class=\"dataframe\">\n",
       "  <thead>\n",
       "    <tr style=\"text-align: right;\">\n",
       "      <th></th>\n",
       "      <th>R&amp;D Spend</th>\n",
       "      <th>Administration</th>\n",
       "      <th>Marketing Spend</th>\n",
       "      <th>Profit</th>\n",
       "      <th>NewYork_state</th>\n",
       "      <th>California_State</th>\n",
       "      <th>Florida_state</th>\n",
       "    </tr>\n",
       "  </thead>\n",
       "  <tbody>\n",
       "    <tr>\n",
       "      <th>0</th>\n",
       "      <td>165349.20</td>\n",
       "      <td>136897.80</td>\n",
       "      <td>471784.10</td>\n",
       "      <td>192261.83</td>\n",
       "      <td>1</td>\n",
       "      <td>0</td>\n",
       "      <td>0</td>\n",
       "    </tr>\n",
       "    <tr>\n",
       "      <th>1</th>\n",
       "      <td>162597.70</td>\n",
       "      <td>151377.59</td>\n",
       "      <td>443898.53</td>\n",
       "      <td>191792.06</td>\n",
       "      <td>0</td>\n",
       "      <td>1</td>\n",
       "      <td>0</td>\n",
       "    </tr>\n",
       "    <tr>\n",
       "      <th>2</th>\n",
       "      <td>153441.51</td>\n",
       "      <td>101145.55</td>\n",
       "      <td>407934.54</td>\n",
       "      <td>191050.39</td>\n",
       "      <td>0</td>\n",
       "      <td>0</td>\n",
       "      <td>1</td>\n",
       "    </tr>\n",
       "    <tr>\n",
       "      <th>3</th>\n",
       "      <td>144372.41</td>\n",
       "      <td>118671.85</td>\n",
       "      <td>383199.62</td>\n",
       "      <td>182901.99</td>\n",
       "      <td>1</td>\n",
       "      <td>0</td>\n",
       "      <td>0</td>\n",
       "    </tr>\n",
       "    <tr>\n",
       "      <th>4</th>\n",
       "      <td>142107.34</td>\n",
       "      <td>91391.77</td>\n",
       "      <td>366168.42</td>\n",
       "      <td>166187.94</td>\n",
       "      <td>0</td>\n",
       "      <td>0</td>\n",
       "      <td>1</td>\n",
       "    </tr>\n",
       "  </tbody>\n",
       "</table>\n",
       "</div>"
      ],
      "text/plain": [
       "   R&D Spend  Administration  Marketing Spend     Profit  NewYork_state  \\\n",
       "0  165349.20       136897.80        471784.10  192261.83              1   \n",
       "1  162597.70       151377.59        443898.53  191792.06              0   \n",
       "2  153441.51       101145.55        407934.54  191050.39              0   \n",
       "3  144372.41       118671.85        383199.62  182901.99              1   \n",
       "4  142107.34        91391.77        366168.42  166187.94              0   \n",
       "\n",
       "   California_State  Florida_state  \n",
       "0                 0              0  \n",
       "1                 1              0  \n",
       "2                 0              1  \n",
       "3                 0              0  \n",
       "4                 0              1  "
      ]
     },
     "execution_count": 12,
     "metadata": {},
     "output_type": "execute_result"
    }
   ],
   "source": [
    "dataset.head()"
   ]
  },
  {
   "cell_type": "code",
   "execution_count": 13,
   "id": "8ac49203",
   "metadata": {},
   "outputs": [
    {
     "name": "stdout",
     "output_type": "stream",
     "text": [
      "Dependent Variable =  Profit\n",
      "Independent Variables =  ['California_State', 'NewYork_state', 'Marketing Spend', 'R&D Spend', 'Florida_state', 'Administration']\n"
     ]
    }
   ],
   "source": [
    "#defining Profit as dependent variable as we want to predict the profits\n",
    "dependent_var = 'Profit'\n",
    "#defining other variables as Independent variables as list of variables\n",
    "independent_var = list(set(dataset.columns.to_list())-{dependent_var})\n",
    "print('Dependent Variable = ', dependent_var)\n",
    "print('Independent Variables = ', independent_var)"
   ]
  },
  {
   "cell_type": "code",
   "execution_count": 14,
   "id": "c22ba9a5",
   "metadata": {},
   "outputs": [
    {
     "data": {
      "text/html": [
       "<div>\n",
       "<style scoped>\n",
       "    .dataframe tbody tr th:only-of-type {\n",
       "        vertical-align: middle;\n",
       "    }\n",
       "\n",
       "    .dataframe tbody tr th {\n",
       "        vertical-align: top;\n",
       "    }\n",
       "\n",
       "    .dataframe thead th {\n",
       "        text-align: right;\n",
       "    }\n",
       "</style>\n",
       "<table border=\"1\" class=\"dataframe\">\n",
       "  <thead>\n",
       "    <tr style=\"text-align: right;\">\n",
       "      <th></th>\n",
       "      <th>California_State</th>\n",
       "      <th>NewYork_state</th>\n",
       "      <th>Marketing Spend</th>\n",
       "      <th>R&amp;D Spend</th>\n",
       "      <th>Florida_state</th>\n",
       "      <th>Administration</th>\n",
       "    </tr>\n",
       "  </thead>\n",
       "  <tbody>\n",
       "    <tr>\n",
       "      <th>0</th>\n",
       "      <td>0</td>\n",
       "      <td>1</td>\n",
       "      <td>471784.10</td>\n",
       "      <td>165349.20</td>\n",
       "      <td>0</td>\n",
       "      <td>136897.80</td>\n",
       "    </tr>\n",
       "    <tr>\n",
       "      <th>1</th>\n",
       "      <td>1</td>\n",
       "      <td>0</td>\n",
       "      <td>443898.53</td>\n",
       "      <td>162597.70</td>\n",
       "      <td>0</td>\n",
       "      <td>151377.59</td>\n",
       "    </tr>\n",
       "    <tr>\n",
       "      <th>2</th>\n",
       "      <td>0</td>\n",
       "      <td>0</td>\n",
       "      <td>407934.54</td>\n",
       "      <td>153441.51</td>\n",
       "      <td>1</td>\n",
       "      <td>101145.55</td>\n",
       "    </tr>\n",
       "    <tr>\n",
       "      <th>3</th>\n",
       "      <td>0</td>\n",
       "      <td>1</td>\n",
       "      <td>383199.62</td>\n",
       "      <td>144372.41</td>\n",
       "      <td>0</td>\n",
       "      <td>118671.85</td>\n",
       "    </tr>\n",
       "    <tr>\n",
       "      <th>4</th>\n",
       "      <td>0</td>\n",
       "      <td>0</td>\n",
       "      <td>366168.42</td>\n",
       "      <td>142107.34</td>\n",
       "      <td>1</td>\n",
       "      <td>91391.77</td>\n",
       "    </tr>\n",
       "    <tr>\n",
       "      <th>5</th>\n",
       "      <td>0</td>\n",
       "      <td>1</td>\n",
       "      <td>362861.36</td>\n",
       "      <td>131876.90</td>\n",
       "      <td>0</td>\n",
       "      <td>99814.71</td>\n",
       "    </tr>\n",
       "    <tr>\n",
       "      <th>6</th>\n",
       "      <td>1</td>\n",
       "      <td>0</td>\n",
       "      <td>127716.82</td>\n",
       "      <td>134615.46</td>\n",
       "      <td>0</td>\n",
       "      <td>147198.87</td>\n",
       "    </tr>\n",
       "    <tr>\n",
       "      <th>7</th>\n",
       "      <td>0</td>\n",
       "      <td>0</td>\n",
       "      <td>323876.68</td>\n",
       "      <td>130298.13</td>\n",
       "      <td>1</td>\n",
       "      <td>145530.06</td>\n",
       "    </tr>\n",
       "    <tr>\n",
       "      <th>8</th>\n",
       "      <td>0</td>\n",
       "      <td>1</td>\n",
       "      <td>311613.29</td>\n",
       "      <td>120542.52</td>\n",
       "      <td>0</td>\n",
       "      <td>148718.95</td>\n",
       "    </tr>\n",
       "    <tr>\n",
       "      <th>9</th>\n",
       "      <td>1</td>\n",
       "      <td>0</td>\n",
       "      <td>304981.62</td>\n",
       "      <td>123334.88</td>\n",
       "      <td>0</td>\n",
       "      <td>108679.17</td>\n",
       "    </tr>\n",
       "    <tr>\n",
       "      <th>10</th>\n",
       "      <td>0</td>\n",
       "      <td>0</td>\n",
       "      <td>229160.95</td>\n",
       "      <td>101913.08</td>\n",
       "      <td>1</td>\n",
       "      <td>110594.11</td>\n",
       "    </tr>\n",
       "    <tr>\n",
       "      <th>11</th>\n",
       "      <td>1</td>\n",
       "      <td>0</td>\n",
       "      <td>249744.55</td>\n",
       "      <td>100671.96</td>\n",
       "      <td>0</td>\n",
       "      <td>91790.61</td>\n",
       "    </tr>\n",
       "    <tr>\n",
       "      <th>12</th>\n",
       "      <td>0</td>\n",
       "      <td>0</td>\n",
       "      <td>249839.44</td>\n",
       "      <td>93863.75</td>\n",
       "      <td>1</td>\n",
       "      <td>127320.38</td>\n",
       "    </tr>\n",
       "    <tr>\n",
       "      <th>13</th>\n",
       "      <td>1</td>\n",
       "      <td>0</td>\n",
       "      <td>252664.93</td>\n",
       "      <td>91992.39</td>\n",
       "      <td>0</td>\n",
       "      <td>135495.07</td>\n",
       "    </tr>\n",
       "    <tr>\n",
       "      <th>14</th>\n",
       "      <td>0</td>\n",
       "      <td>0</td>\n",
       "      <td>256512.92</td>\n",
       "      <td>119943.24</td>\n",
       "      <td>1</td>\n",
       "      <td>156547.42</td>\n",
       "    </tr>\n",
       "    <tr>\n",
       "      <th>15</th>\n",
       "      <td>0</td>\n",
       "      <td>1</td>\n",
       "      <td>261776.23</td>\n",
       "      <td>114523.61</td>\n",
       "      <td>0</td>\n",
       "      <td>122616.84</td>\n",
       "    </tr>\n",
       "    <tr>\n",
       "      <th>16</th>\n",
       "      <td>1</td>\n",
       "      <td>0</td>\n",
       "      <td>264346.06</td>\n",
       "      <td>78013.11</td>\n",
       "      <td>0</td>\n",
       "      <td>121597.55</td>\n",
       "    </tr>\n",
       "    <tr>\n",
       "      <th>17</th>\n",
       "      <td>0</td>\n",
       "      <td>1</td>\n",
       "      <td>282574.31</td>\n",
       "      <td>94657.16</td>\n",
       "      <td>0</td>\n",
       "      <td>145077.58</td>\n",
       "    </tr>\n",
       "    <tr>\n",
       "      <th>18</th>\n",
       "      <td>0</td>\n",
       "      <td>0</td>\n",
       "      <td>294919.57</td>\n",
       "      <td>91749.16</td>\n",
       "      <td>1</td>\n",
       "      <td>114175.79</td>\n",
       "    </tr>\n",
       "    <tr>\n",
       "      <th>19</th>\n",
       "      <td>0</td>\n",
       "      <td>1</td>\n",
       "      <td>0.00</td>\n",
       "      <td>86419.70</td>\n",
       "      <td>0</td>\n",
       "      <td>153514.11</td>\n",
       "    </tr>\n",
       "    <tr>\n",
       "      <th>20</th>\n",
       "      <td>1</td>\n",
       "      <td>0</td>\n",
       "      <td>298664.47</td>\n",
       "      <td>76253.86</td>\n",
       "      <td>0</td>\n",
       "      <td>113867.30</td>\n",
       "    </tr>\n",
       "    <tr>\n",
       "      <th>21</th>\n",
       "      <td>0</td>\n",
       "      <td>1</td>\n",
       "      <td>299737.29</td>\n",
       "      <td>78389.47</td>\n",
       "      <td>0</td>\n",
       "      <td>153773.43</td>\n",
       "    </tr>\n",
       "    <tr>\n",
       "      <th>22</th>\n",
       "      <td>0</td>\n",
       "      <td>0</td>\n",
       "      <td>303319.26</td>\n",
       "      <td>73994.56</td>\n",
       "      <td>1</td>\n",
       "      <td>122782.75</td>\n",
       "    </tr>\n",
       "    <tr>\n",
       "      <th>23</th>\n",
       "      <td>0</td>\n",
       "      <td>0</td>\n",
       "      <td>304768.73</td>\n",
       "      <td>67532.53</td>\n",
       "      <td>1</td>\n",
       "      <td>105751.03</td>\n",
       "    </tr>\n",
       "    <tr>\n",
       "      <th>24</th>\n",
       "      <td>0</td>\n",
       "      <td>1</td>\n",
       "      <td>140574.81</td>\n",
       "      <td>77044.01</td>\n",
       "      <td>0</td>\n",
       "      <td>99281.34</td>\n",
       "    </tr>\n",
       "    <tr>\n",
       "      <th>25</th>\n",
       "      <td>1</td>\n",
       "      <td>0</td>\n",
       "      <td>137962.62</td>\n",
       "      <td>64664.71</td>\n",
       "      <td>0</td>\n",
       "      <td>139553.16</td>\n",
       "    </tr>\n",
       "    <tr>\n",
       "      <th>26</th>\n",
       "      <td>0</td>\n",
       "      <td>0</td>\n",
       "      <td>134050.07</td>\n",
       "      <td>75328.87</td>\n",
       "      <td>1</td>\n",
       "      <td>144135.98</td>\n",
       "    </tr>\n",
       "    <tr>\n",
       "      <th>27</th>\n",
       "      <td>0</td>\n",
       "      <td>1</td>\n",
       "      <td>353183.81</td>\n",
       "      <td>72107.60</td>\n",
       "      <td>0</td>\n",
       "      <td>127864.55</td>\n",
       "    </tr>\n",
       "    <tr>\n",
       "      <th>28</th>\n",
       "      <td>0</td>\n",
       "      <td>0</td>\n",
       "      <td>118148.20</td>\n",
       "      <td>66051.52</td>\n",
       "      <td>1</td>\n",
       "      <td>182645.56</td>\n",
       "    </tr>\n",
       "    <tr>\n",
       "      <th>29</th>\n",
       "      <td>0</td>\n",
       "      <td>1</td>\n",
       "      <td>107138.38</td>\n",
       "      <td>65605.48</td>\n",
       "      <td>0</td>\n",
       "      <td>153032.06</td>\n",
       "    </tr>\n",
       "    <tr>\n",
       "      <th>30</th>\n",
       "      <td>0</td>\n",
       "      <td>0</td>\n",
       "      <td>91131.24</td>\n",
       "      <td>61994.48</td>\n",
       "      <td>1</td>\n",
       "      <td>115641.28</td>\n",
       "    </tr>\n",
       "    <tr>\n",
       "      <th>31</th>\n",
       "      <td>0</td>\n",
       "      <td>1</td>\n",
       "      <td>88218.23</td>\n",
       "      <td>61136.38</td>\n",
       "      <td>0</td>\n",
       "      <td>152701.92</td>\n",
       "    </tr>\n",
       "    <tr>\n",
       "      <th>32</th>\n",
       "      <td>1</td>\n",
       "      <td>0</td>\n",
       "      <td>46085.25</td>\n",
       "      <td>63408.86</td>\n",
       "      <td>0</td>\n",
       "      <td>129219.61</td>\n",
       "    </tr>\n",
       "    <tr>\n",
       "      <th>33</th>\n",
       "      <td>0</td>\n",
       "      <td>0</td>\n",
       "      <td>214634.81</td>\n",
       "      <td>55493.95</td>\n",
       "      <td>1</td>\n",
       "      <td>103057.49</td>\n",
       "    </tr>\n",
       "    <tr>\n",
       "      <th>34</th>\n",
       "      <td>1</td>\n",
       "      <td>0</td>\n",
       "      <td>210797.67</td>\n",
       "      <td>46426.07</td>\n",
       "      <td>0</td>\n",
       "      <td>157693.92</td>\n",
       "    </tr>\n",
       "    <tr>\n",
       "      <th>35</th>\n",
       "      <td>0</td>\n",
       "      <td>1</td>\n",
       "      <td>205517.64</td>\n",
       "      <td>46014.02</td>\n",
       "      <td>0</td>\n",
       "      <td>85047.44</td>\n",
       "    </tr>\n",
       "    <tr>\n",
       "      <th>36</th>\n",
       "      <td>0</td>\n",
       "      <td>0</td>\n",
       "      <td>201126.82</td>\n",
       "      <td>28663.76</td>\n",
       "      <td>1</td>\n",
       "      <td>127056.21</td>\n",
       "    </tr>\n",
       "    <tr>\n",
       "      <th>37</th>\n",
       "      <td>1</td>\n",
       "      <td>0</td>\n",
       "      <td>197029.42</td>\n",
       "      <td>44069.95</td>\n",
       "      <td>0</td>\n",
       "      <td>51283.14</td>\n",
       "    </tr>\n",
       "    <tr>\n",
       "      <th>38</th>\n",
       "      <td>0</td>\n",
       "      <td>1</td>\n",
       "      <td>185265.10</td>\n",
       "      <td>20229.59</td>\n",
       "      <td>0</td>\n",
       "      <td>65947.93</td>\n",
       "    </tr>\n",
       "    <tr>\n",
       "      <th>39</th>\n",
       "      <td>1</td>\n",
       "      <td>0</td>\n",
       "      <td>174999.30</td>\n",
       "      <td>38558.51</td>\n",
       "      <td>0</td>\n",
       "      <td>82982.09</td>\n",
       "    </tr>\n",
       "    <tr>\n",
       "      <th>40</th>\n",
       "      <td>1</td>\n",
       "      <td>0</td>\n",
       "      <td>172795.67</td>\n",
       "      <td>28754.33</td>\n",
       "      <td>0</td>\n",
       "      <td>118546.05</td>\n",
       "    </tr>\n",
       "    <tr>\n",
       "      <th>41</th>\n",
       "      <td>0</td>\n",
       "      <td>0</td>\n",
       "      <td>164470.71</td>\n",
       "      <td>27892.92</td>\n",
       "      <td>1</td>\n",
       "      <td>84710.77</td>\n",
       "    </tr>\n",
       "    <tr>\n",
       "      <th>42</th>\n",
       "      <td>1</td>\n",
       "      <td>0</td>\n",
       "      <td>148001.11</td>\n",
       "      <td>23640.93</td>\n",
       "      <td>0</td>\n",
       "      <td>96189.63</td>\n",
       "    </tr>\n",
       "    <tr>\n",
       "      <th>43</th>\n",
       "      <td>0</td>\n",
       "      <td>1</td>\n",
       "      <td>35534.17</td>\n",
       "      <td>15505.73</td>\n",
       "      <td>0</td>\n",
       "      <td>127382.30</td>\n",
       "    </tr>\n",
       "    <tr>\n",
       "      <th>44</th>\n",
       "      <td>1</td>\n",
       "      <td>0</td>\n",
       "      <td>28334.72</td>\n",
       "      <td>22177.74</td>\n",
       "      <td>0</td>\n",
       "      <td>154806.14</td>\n",
       "    </tr>\n",
       "    <tr>\n",
       "      <th>45</th>\n",
       "      <td>0</td>\n",
       "      <td>1</td>\n",
       "      <td>1903.93</td>\n",
       "      <td>1000.23</td>\n",
       "      <td>0</td>\n",
       "      <td>124153.04</td>\n",
       "    </tr>\n",
       "    <tr>\n",
       "      <th>46</th>\n",
       "      <td>0</td>\n",
       "      <td>0</td>\n",
       "      <td>297114.46</td>\n",
       "      <td>1315.46</td>\n",
       "      <td>1</td>\n",
       "      <td>115816.21</td>\n",
       "    </tr>\n",
       "    <tr>\n",
       "      <th>47</th>\n",
       "      <td>1</td>\n",
       "      <td>0</td>\n",
       "      <td>0.00</td>\n",
       "      <td>0.00</td>\n",
       "      <td>0</td>\n",
       "      <td>135426.92</td>\n",
       "    </tr>\n",
       "    <tr>\n",
       "      <th>48</th>\n",
       "      <td>0</td>\n",
       "      <td>1</td>\n",
       "      <td>0.00</td>\n",
       "      <td>542.05</td>\n",
       "      <td>0</td>\n",
       "      <td>51743.15</td>\n",
       "    </tr>\n",
       "    <tr>\n",
       "      <th>49</th>\n",
       "      <td>1</td>\n",
       "      <td>0</td>\n",
       "      <td>45173.06</td>\n",
       "      <td>0.00</td>\n",
       "      <td>0</td>\n",
       "      <td>116983.80</td>\n",
       "    </tr>\n",
       "  </tbody>\n",
       "</table>\n",
       "</div>"
      ],
      "text/plain": [
       "    California_State  NewYork_state  Marketing Spend  R&D Spend  \\\n",
       "0                  0              1        471784.10  165349.20   \n",
       "1                  1              0        443898.53  162597.70   \n",
       "2                  0              0        407934.54  153441.51   \n",
       "3                  0              1        383199.62  144372.41   \n",
       "4                  0              0        366168.42  142107.34   \n",
       "5                  0              1        362861.36  131876.90   \n",
       "6                  1              0        127716.82  134615.46   \n",
       "7                  0              0        323876.68  130298.13   \n",
       "8                  0              1        311613.29  120542.52   \n",
       "9                  1              0        304981.62  123334.88   \n",
       "10                 0              0        229160.95  101913.08   \n",
       "11                 1              0        249744.55  100671.96   \n",
       "12                 0              0        249839.44   93863.75   \n",
       "13                 1              0        252664.93   91992.39   \n",
       "14                 0              0        256512.92  119943.24   \n",
       "15                 0              1        261776.23  114523.61   \n",
       "16                 1              0        264346.06   78013.11   \n",
       "17                 0              1        282574.31   94657.16   \n",
       "18                 0              0        294919.57   91749.16   \n",
       "19                 0              1             0.00   86419.70   \n",
       "20                 1              0        298664.47   76253.86   \n",
       "21                 0              1        299737.29   78389.47   \n",
       "22                 0              0        303319.26   73994.56   \n",
       "23                 0              0        304768.73   67532.53   \n",
       "24                 0              1        140574.81   77044.01   \n",
       "25                 1              0        137962.62   64664.71   \n",
       "26                 0              0        134050.07   75328.87   \n",
       "27                 0              1        353183.81   72107.60   \n",
       "28                 0              0        118148.20   66051.52   \n",
       "29                 0              1        107138.38   65605.48   \n",
       "30                 0              0         91131.24   61994.48   \n",
       "31                 0              1         88218.23   61136.38   \n",
       "32                 1              0         46085.25   63408.86   \n",
       "33                 0              0        214634.81   55493.95   \n",
       "34                 1              0        210797.67   46426.07   \n",
       "35                 0              1        205517.64   46014.02   \n",
       "36                 0              0        201126.82   28663.76   \n",
       "37                 1              0        197029.42   44069.95   \n",
       "38                 0              1        185265.10   20229.59   \n",
       "39                 1              0        174999.30   38558.51   \n",
       "40                 1              0        172795.67   28754.33   \n",
       "41                 0              0        164470.71   27892.92   \n",
       "42                 1              0        148001.11   23640.93   \n",
       "43                 0              1         35534.17   15505.73   \n",
       "44                 1              0         28334.72   22177.74   \n",
       "45                 0              1          1903.93    1000.23   \n",
       "46                 0              0        297114.46    1315.46   \n",
       "47                 1              0             0.00       0.00   \n",
       "48                 0              1             0.00     542.05   \n",
       "49                 1              0         45173.06       0.00   \n",
       "\n",
       "    Florida_state  Administration  \n",
       "0               0       136897.80  \n",
       "1               0       151377.59  \n",
       "2               1       101145.55  \n",
       "3               0       118671.85  \n",
       "4               1        91391.77  \n",
       "5               0        99814.71  \n",
       "6               0       147198.87  \n",
       "7               1       145530.06  \n",
       "8               0       148718.95  \n",
       "9               0       108679.17  \n",
       "10              1       110594.11  \n",
       "11              0        91790.61  \n",
       "12              1       127320.38  \n",
       "13              0       135495.07  \n",
       "14              1       156547.42  \n",
       "15              0       122616.84  \n",
       "16              0       121597.55  \n",
       "17              0       145077.58  \n",
       "18              1       114175.79  \n",
       "19              0       153514.11  \n",
       "20              0       113867.30  \n",
       "21              0       153773.43  \n",
       "22              1       122782.75  \n",
       "23              1       105751.03  \n",
       "24              0        99281.34  \n",
       "25              0       139553.16  \n",
       "26              1       144135.98  \n",
       "27              0       127864.55  \n",
       "28              1       182645.56  \n",
       "29              0       153032.06  \n",
       "30              1       115641.28  \n",
       "31              0       152701.92  \n",
       "32              0       129219.61  \n",
       "33              1       103057.49  \n",
       "34              0       157693.92  \n",
       "35              0        85047.44  \n",
       "36              1       127056.21  \n",
       "37              0        51283.14  \n",
       "38              0        65947.93  \n",
       "39              0        82982.09  \n",
       "40              0       118546.05  \n",
       "41              1        84710.77  \n",
       "42              0        96189.63  \n",
       "43              0       127382.30  \n",
       "44              0       154806.14  \n",
       "45              0       124153.04  \n",
       "46              1       115816.21  \n",
       "47              0       135426.92  \n",
       "48              0        51743.15  \n",
       "49              0       116983.80  "
      ]
     },
     "execution_count": 14,
     "metadata": {},
     "output_type": "execute_result"
    }
   ],
   "source": [
    "dataset[independent_var]"
   ]
  },
  {
   "cell_type": "code",
   "execution_count": 15,
   "id": "58ccad51",
   "metadata": {},
   "outputs": [
    {
     "data": {
      "text/plain": [
       "0     192261.83\n",
       "1     191792.06\n",
       "2     191050.39\n",
       "3     182901.99\n",
       "4     166187.94\n",
       "5     156991.12\n",
       "6     156122.51\n",
       "7     155752.60\n",
       "8     152211.77\n",
       "9     149759.96\n",
       "10    146121.95\n",
       "11    144259.40\n",
       "12    141585.52\n",
       "13    134307.35\n",
       "14    132602.65\n",
       "15    129917.04\n",
       "16    126992.93\n",
       "17    125370.37\n",
       "18    124266.90\n",
       "19    122776.86\n",
       "20    118474.03\n",
       "21    111313.02\n",
       "22    110352.25\n",
       "23    108733.99\n",
       "24    108552.04\n",
       "25    107404.34\n",
       "26    105733.54\n",
       "27    105008.31\n",
       "28    103282.38\n",
       "29    101004.64\n",
       "30     99937.59\n",
       "31     97483.56\n",
       "32     97427.84\n",
       "33     96778.92\n",
       "34     96712.80\n",
       "35     96479.51\n",
       "36     90708.19\n",
       "37     89949.14\n",
       "38     81229.06\n",
       "39     81005.76\n",
       "40     78239.91\n",
       "41     77798.83\n",
       "42     71498.49\n",
       "43     69758.98\n",
       "44     65200.33\n",
       "45     64926.08\n",
       "46     49490.75\n",
       "47     42559.73\n",
       "48     35673.41\n",
       "49     14681.40\n",
       "Name: Profit, dtype: float64"
      ]
     },
     "execution_count": 15,
     "metadata": {},
     "output_type": "execute_result"
    }
   ],
   "source": [
    "dataset[dependent_var]"
   ]
  },
  {
   "cell_type": "code",
   "execution_count": 16,
   "id": "40990997",
   "metadata": {},
   "outputs": [],
   "source": [
    "#Creating the data of independent variables\n",
    "X = dataset[independent_var].values\n",
    "#Creating the dataset for dependent variables\n",
    "y = dataset[dependent_var].values"
   ]
  },
  {
   "cell_type": "code",
   "execution_count": 17,
   "id": "f157bf20",
   "metadata": {},
   "outputs": [],
   "source": [
    "# Splitting the dataset into traing and test set\n",
    "X_train, X_test, Y_train, Y_test = train_test_split(X, y,test_size=0.2, random_state=0)"
   ]
  },
  {
   "cell_type": "code",
   "execution_count": 18,
   "id": "69a6497c",
   "metadata": {},
   "outputs": [
    {
     "data": {
      "text/plain": [
       "array([[0.0000000e+00, 0.0000000e+00, 2.1463481e+05, 5.5493950e+04,\n",
       "        1.0000000e+00, 1.0305749e+05],\n",
       "       [0.0000000e+00, 1.0000000e+00, 2.0551764e+05, 4.6014020e+04,\n",
       "        0.0000000e+00, 8.5047440e+04],\n",
       "       [0.0000000e+00, 0.0000000e+00, 1.3405007e+05, 7.5328870e+04,\n",
       "        1.0000000e+00, 1.4413598e+05],\n",
       "       [1.0000000e+00, 0.0000000e+00, 2.1079767e+05, 4.6426070e+04,\n",
       "        0.0000000e+00, 1.5769392e+05],\n",
       "       [0.0000000e+00, 0.0000000e+00, 2.9491957e+05, 9.1749160e+04,\n",
       "        1.0000000e+00, 1.1417579e+05],\n",
       "       [0.0000000e+00, 0.0000000e+00, 3.2387668e+05, 1.3029813e+05,\n",
       "        1.0000000e+00, 1.4553006e+05],\n",
       "       [0.0000000e+00, 0.0000000e+00, 2.5651292e+05, 1.1994324e+05,\n",
       "        1.0000000e+00, 1.5654742e+05],\n",
       "       [0.0000000e+00, 1.0000000e+00, 1.9039300e+03, 1.0002300e+03,\n",
       "        0.0000000e+00, 1.2415304e+05],\n",
       "       [0.0000000e+00, 1.0000000e+00, 0.0000000e+00, 5.4205000e+02,\n",
       "        0.0000000e+00, 5.1743150e+04],\n",
       "       [0.0000000e+00, 1.0000000e+00, 1.0713838e+05, 6.5605480e+04,\n",
       "        0.0000000e+00, 1.5303206e+05]])"
      ]
     },
     "execution_count": 18,
     "metadata": {},
     "output_type": "execute_result"
    }
   ],
   "source": [
    "X_train[:10]"
   ]
  },
  {
   "cell_type": "code",
   "execution_count": 19,
   "id": "41f944a3",
   "metadata": {},
   "outputs": [],
   "source": [
    "#Transforming data(Preprocessing Data/ Standardizing Data/ Normalizing Data)\n",
    "scaler = MinMaxScaler()\n",
    "X_train=scaler.fit_transform(X_train)\n",
    "X_test= scaler.transform(X_test)"
   ]
  },
  {
   "cell_type": "code",
   "execution_count": 20,
   "id": "c4b8916a",
   "metadata": {},
   "outputs": [
    {
     "data": {
      "text/plain": [
       "array([[0.        , 0.        , 0.45494286, 0.33561668, 1.        ,\n",
       "        0.48655174],\n",
       "       [0.        , 1.        , 0.43561799, 0.2782839 , 0.        ,\n",
       "        0.3173015 ],\n",
       "       [0.        , 0.        , 0.28413435, 0.45557444, 1.        ,\n",
       "        0.87258866],\n",
       "       [1.        , 0.        , 0.44680961, 0.2807759 , 0.        ,\n",
       "        1.        ],\n",
       "       [0.        , 0.        , 0.62511553, 0.55488118, 1.        ,\n",
       "        0.59103645],\n",
       "       [0.        , 0.        , 0.68649342, 0.7880179 , 1.        ,\n",
       "        0.88568959],\n",
       "       [0.        , 0.        , 0.54370828, 0.72539353, 1.        ,\n",
       "        0.98922572],\n",
       "       [0.        , 1.        , 0.0040356 , 0.0060492 , 0.        ,\n",
       "        0.6847981 ],\n",
       "       [0.        , 1.        , 0.        , 0.00327821, 0.        ,\n",
       "        0.00432296],\n",
       "       [0.        , 1.        , 0.22709197, 0.39676926, 0.        ,\n",
       "        0.95618996]])"
      ]
     },
     "execution_count": 20,
     "metadata": {},
     "output_type": "execute_result"
    }
   ],
   "source": [
    "X_train[:10]"
   ]
  },
  {
   "cell_type": "code",
   "execution_count": 21,
   "id": "2c86b093",
   "metadata": {},
   "outputs": [
    {
     "data": {
      "text/plain": [
       "LinearRegression()"
      ]
     },
     "execution_count": 21,
     "metadata": {},
     "output_type": "execute_result"
    }
   ],
   "source": [
    "#Fitting multiple linear regression to the training dataset\n",
    "regressor = LinearRegression()\n",
    "regressor.fit(X_train,Y_train)"
   ]
  },
  {
   "cell_type": "code",
   "execution_count": 22,
   "id": "b81d12a9",
   "metadata": {},
   "outputs": [
    {
     "data": {
      "text/plain": [
       "44153.95466784861"
      ]
     },
     "execution_count": 22,
     "metadata": {},
     "output_type": "execute_result"
    }
   ],
   "source": [
    "#This is the point on Y axis when X=0\n",
    "regressor.intercept_"
   ]
  },
  {
   "cell_type": "code",
   "execution_count": 23,
   "id": "a425d64b",
   "metadata": {},
   "outputs": [
    {
     "data": {
      "text/plain": [
       "array([ 8.66383692e+01,  7.86007422e+02,  1.72720281e+04,  1.27892182e+05,\n",
       "       -8.72645791e+02,  3.49927567e+03])"
      ]
     },
     "execution_count": 23,
     "metadata": {},
     "output_type": "execute_result"
    }
   ],
   "source": [
    "#Coefficients are the betas of the features\n",
    "regressor.coef_"
   ]
  },
  {
   "cell_type": "code",
   "execution_count": 24,
   "id": "9dbdbe8d",
   "metadata": {},
   "outputs": [],
   "source": [
    "y_pred_train = regressor.predict(X_train)"
   ]
  },
  {
   "cell_type": "code",
   "execution_count": 25,
   "id": "f5d9ce71",
   "metadata": {},
   "outputs": [
    {
     "data": {
      "text/plain": [
       "array([ 96778.92,  96479.51, 105733.54,  96712.8 , 124266.9 , 155752.6 ,\n",
       "       132602.65,  64926.08,  35673.41, 101004.64, 129917.04,  99937.59,\n",
       "        97427.84, 126992.93,  71498.49, 118474.03,  69758.98, 152211.77,\n",
       "       134307.35, 107404.34, 156991.12, 125370.37,  78239.91,  14681.4 ,\n",
       "       191792.06, 141585.52,  89949.14, 108552.04, 156122.51, 108733.99,\n",
       "        90708.19, 111313.02, 122776.86, 149759.96,  81005.76,  49490.75,\n",
       "       182901.99, 192261.83,  42559.73,  65200.33])"
      ]
     },
     "execution_count": 25,
     "metadata": {},
     "output_type": "execute_result"
    }
   ],
   "source": [
    "#Actaul values observed in the training dataset\n",
    "Y_train"
   ]
  },
  {
   "cell_type": "code",
   "execution_count": 26,
   "id": "7ec6bd20",
   "metadata": {},
   "outputs": [
    {
     "data": {
      "text/plain": [
       "array([ 95764.42320496,  89164.62849777, 109506.72329085,  91366.2188941 ,\n",
       "       127111.48666646, 159019.04337114, 148905.9881254 ,  48179.60744028,\n",
       "        45374.34722508, 102951.9596798 , 145449.63178399,  96684.71387299,\n",
       "        97535.3576194 , 116571.15139254,  69421.13311312, 116212.62095133,\n",
       "        60736.53267612, 152787.95464277, 127413.0337311 , 102210.16391827,\n",
       "       161822.7226407 , 131583.61511491,  75019.09161337,  48054.91969394,\n",
       "       189547.28196893, 127528.92248422,  85540.50570954, 111255.8251405 ,\n",
       "       156191.10124356, 108464.25100331,  75306.81185049, 119915.38726755,\n",
       "       115144.58914955, 152688.90677959,  81513.47163492,  57298.28613018,\n",
       "       172852.28336637, 192919.57537462,  47007.62737751,  65835.99435878])"
      ]
     },
     "execution_count": 26,
     "metadata": {},
     "output_type": "execute_result"
    }
   ],
   "source": [
    "#Prediced values of Y dependent of the independent variables(X) from traing datset\n",
    "y_pred_train"
   ]
  },
  {
   "cell_type": "code",
   "execution_count": 27,
   "id": "7cb81026",
   "metadata": {},
   "outputs": [
    {
     "data": {
      "text/plain": [
       "array([103015.20159796, 132582.27760816, 132447.73845174,  71976.09851258,\n",
       "       178537.48221055, 116161.24230165,  67851.69209676,  98791.73374687,\n",
       "       113969.43533012, 167921.0656955 ])"
      ]
     },
     "execution_count": 27,
     "metadata": {},
     "output_type": "execute_result"
    }
   ],
   "source": [
    "#Predicting the Test Results\n",
    "y_pred = regressor.predict(X_test)\n",
    "#predicted profits on test dataset\n",
    "y_pred"
   ]
  },
  {
   "cell_type": "code",
   "execution_count": 28,
   "id": "351edcf2",
   "metadata": {},
   "outputs": [
    {
     "data": {
      "text/plain": [
       "array([103282.38, 144259.4 , 146121.95,  77798.83, 191050.39, 105008.31,\n",
       "        81229.06,  97483.56, 110352.25, 166187.94])"
      ]
     },
     "execution_count": 28,
     "metadata": {},
     "output_type": "execute_result"
    }
   ],
   "source": [
    "# Actual observed values of Y based on independen variables(X) in Test Dataset\n",
    "Y_test"
   ]
  },
  {
   "cell_type": "code",
   "execution_count": 29,
   "id": "0ec5de54",
   "metadata": {},
   "outputs": [
    {
     "data": {
      "text/plain": [
       "83502864.03257765"
      ]
     },
     "execution_count": 29,
     "metadata": {},
     "output_type": "execute_result"
    }
   ],
   "source": [
    "mean_squared_error(Y_test, y_pred)"
   ]
  },
  {
   "cell_type": "code",
   "execution_count": 30,
   "id": "28ca2840",
   "metadata": {},
   "outputs": [
    {
     "data": {
      "text/plain": [
       "9031.666612578967"
      ]
     },
     "execution_count": 30,
     "metadata": {},
     "output_type": "execute_result"
    }
   ],
   "source": [
    "#Training Performance\n",
    "math.sqrt(mean_squared_error(Y_train, y_pred_train))"
   ]
  },
  {
   "cell_type": "code",
   "execution_count": 31,
   "id": "0d1589af",
   "metadata": {},
   "outputs": [
    {
     "data": {
      "text/plain": [
       "9137.990152794959"
      ]
     },
     "execution_count": 31,
     "metadata": {},
     "output_type": "execute_result"
    }
   ],
   "source": [
    "#Test Performance\n",
    "math.sqrt(mean_squared_error(Y_test, y_pred))"
   ]
  },
  {
   "cell_type": "code",
   "execution_count": 32,
   "id": "ede8986a",
   "metadata": {},
   "outputs": [
    {
     "data": {
      "text/plain": [
       "0.9501847627493607"
      ]
     },
     "execution_count": 32,
     "metadata": {},
     "output_type": "execute_result"
    }
   ],
   "source": [
    "#R_squared score for training dataset. R-squared tells the how well the line has fit. Higher the score, better the fit\n",
    "r2_score(Y_train,y_pred_train)"
   ]
  },
  {
   "cell_type": "code",
   "execution_count": 33,
   "id": "b18af8be",
   "metadata": {},
   "outputs": [
    {
     "data": {
      "text/plain": [
       "0.9347068473282423"
      ]
     },
     "execution_count": 33,
     "metadata": {},
     "output_type": "execute_result"
    }
   ],
   "source": [
    "#R_squared score for test Dataset\n",
    "r2_score(Y_test, y_pred)"
   ]
  },
  {
   "cell_type": "code",
   "execution_count": null,
   "id": "0b090d3f",
   "metadata": {},
   "outputs": [],
   "source": []
  }
 ],
 "metadata": {
  "kernelspec": {
   "display_name": "Python 3",
   "language": "python",
   "name": "python3"
  },
  "language_info": {
   "codemirror_mode": {
    "name": "ipython",
    "version": 3
   },
   "file_extension": ".py",
   "mimetype": "text/x-python",
   "name": "python",
   "nbconvert_exporter": "python",
   "pygments_lexer": "ipython3",
   "version": "3.8.8"
  }
 },
 "nbformat": 4,
 "nbformat_minor": 5
}
